{
  "nbformat": 4,
  "nbformat_minor": 0,
  "metadata": {
    "colab": {
      "provenance": []
    },
    "kernelspec": {
      "name": "python3",
      "display_name": "Python 3"
    },
    "language_info": {
      "name": "python"
    }
  },
  "cells": [
    {
      "cell_type": "markdown",
      "source": [
        "# Statistics Basics"
      ],
      "metadata": {
        "id": "_YP7dtwea_0z"
      }
    },
    {
      "cell_type": "markdown",
      "source": [
        "### 1. What is statistics, and why is it important?"
      ],
      "metadata": {
        "id": "n2zX5OzibC1f"
      }
    },
    {
      "cell_type": "markdown",
      "source": [
        "What Is Statistics?\n",
        "\n",
        "Statistics is the branch of mathematics that deals with collecting, analyzing, interpreting, presenting, and organizing data. It helps us understand and describe data sets, draw conclusions, and make informed decisions based on evidence.\n",
        "\n",
        "There are two main types of statistics:\n",
        "\n",
        "    Descriptive statistics: Summarize and describe the features of a data set (e.g., mean, median, standard deviation).\n",
        "\n",
        "    Inferential statistics: Make predictions or inferences about a population based on a sample (e.g., hypothesis testing, confidence intervals).\n",
        "\n",
        "\n",
        "Why Is Statistics Important ?\n",
        "\n",
        "Python is widely used in data science, machine learning, and analytics, all of which rely heavily on statistical methods. Here's why statistics is essential in Python:\n",
        "\n",
        "1. Data Analysis and Interpretation\n",
        "\n",
        "Python has powerful libraries like Pandas, NumPy, and SciPy, which allow you to perform statistical analysis to:\n",
        "\n",
        "- Understand patterns in data\n",
        "\n",
        "- Summarize data (e.g., with mean, median, mode)\n",
        "\n",
        "- Identify outliers and trends\n",
        "\n",
        "2. Machine Learning and AI\n",
        "\n",
        "Statistical concepts like probability, distribution, correlation, and regression are foundational to machine learning algorithms. Python libraries like scikit-learn and TensorFlow use these principles.\n",
        "3. Visualization\n",
        "\n",
        "Statistical data is often visualized using Python libraries like Matplotlib, Seaborn, and Plotly to:\n",
        "\n",
        "- Communicate insights\n",
        "\n",
        "- Support decision-making\n",
        "\n",
        "- Identify anomalies\n",
        "\n",
        "4. Hypothesis Testing and Experimentation\n",
        "\n",
        "In areas like A/B testing or medical trials, Python enables you to:\n",
        "\n",
        "- Run simulations\n",
        "\n",
        "- Test assumptions\n",
        "\n",
        "- Analyze statistical significance"
      ],
      "metadata": {
        "id": "NFHzFimebCuw"
      }
    },
    {
      "cell_type": "markdown",
      "source": [
        "### 2. What are the two main types of statistics?"
      ],
      "metadata": {
        "id": "gdqkHmNEbCrp"
      }
    },
    {
      "cell_type": "markdown",
      "source": [
        "\n",
        "1. Descriptive Statistics\n",
        "\n",
        "Descriptive statistics summarize and describe the main features of a dataset. They help you understand what the data looks like.\n",
        "Key tools and measures:\n",
        "\n",
        "    Central tendency: Mean, median, mode\n",
        "\n",
        "    Dispersion: Range, variance, standard deviation\n",
        "\n",
        "    Shape of distribution: Skewness, kurtosis\n",
        "\n",
        "    Visualization: Histograms, pie charts, bar plots, box plots\n",
        "\n",
        "Purpose: To describe the data without making conclusions beyond the dataset.\n",
        "\n",
        "2. Inferential Statistics\n",
        "\n",
        "Inferential statistics draw conclusions or make predictions about a population based on a sample of data.\n",
        "Key tools and methods:\n",
        "\n",
        "    Hypothesis testing\n",
        "\n",
        "    Confidence intervals\n",
        "\n",
        "    Regression analysis\n",
        "\n",
        "    ANOVA (Analysis of Variance)\n",
        "\n",
        "    Chi-square tests\n",
        "\n",
        "    T-tests\n",
        "\n",
        "Purpose: To make generalizations from a sample to a larger population and test hypotheses."
      ],
      "metadata": {
        "id": "0flPDnkpbCop"
      }
    },
    {
      "cell_type": "markdown",
      "source": [
        "### 3.What are descriptive statistics?"
      ],
      "metadata": {
        "id": "gSGPzm5Ice3W"
      }
    },
    {
      "cell_type": "markdown",
      "source": [
        "Descriptive statistics are techniques used to summarize, organize, and simplify data. Instead of drawing conclusions or making predictions, descriptive statistics help you understand what the data looks like.\n",
        "📊 Main Types of Descriptive Statistics:\n",
        "1. Measures of Central Tendency\n",
        "\n",
        "These describe the center or average of a dataset:\n",
        "\n",
        "- Mean: The average value\n",
        "\n",
        "- Median: The middle value when data is sorted\n",
        "\n",
        "- Mode: The most frequent value\n",
        "\n",
        "2. Measures of Dispersion (Spread)\n",
        "\n",
        "These show how much the data varies:\n",
        "\n",
        "- Range: Difference between the highest and lowest values\n",
        "\n",
        "- Variance: The average of squared differences from the mean\n",
        "\n",
        "- Standard Deviation: The square root of the variance (how spread out the values are)\n",
        "\n",
        "3. Measures of Position\n",
        "\n",
        "- Percentiles: Divide the data into 100 equal parts (e.g., 90th percentile)\n",
        "\n",
        "- Quartiles: Divide the data into four parts (Q1, Q2, Q3)\n",
        "\n",
        "4. Shape of the Distribution\n",
        "\n",
        "- Skewness: Whether the data is symmetric or skewed left/right\n",
        "\n",
        "- Kurtosis: Whether the data has heavy or light tails compared to a normal distribution\n",
        "\n",
        "5. Data Visualization\n",
        "\n",
        "Helps in seeing patterns visually:\n",
        "\n",
        "- Histograms\n",
        "\n",
        "- Box plots\n",
        "\n",
        "- Bar charts\n",
        "\n",
        "- Pie charts\n",
        "\n",
        "Purpose:\n",
        "Descriptive statistics help you quickly understand key characteristics of a dataset without making predictions."
      ],
      "metadata": {
        "id": "forWbHmzce1G"
      }
    },
    {
      "cell_type": "markdown",
      "source": [
        "### 4. What is inferential statistics?"
      ],
      "metadata": {
        "id": "nTP8SsXscey-"
      }
    },
    {
      "cell_type": "markdown",
      "source": [
        "What Is Inferential Statistics?\n",
        "\n",
        "Inferential statistics involves using data from a sample to make predictions, generalizations, or decisions about a larger population.\n",
        "\n",
        "Unlike descriptive statistics, which only summarizes what you see in the data, inferential statistics allows you to go beyond the data and make conclusions or test hypotheses.\n",
        "\n",
        "Key Ideas in Inferential Statistics:\n",
        "1. Population vs. Sample\n",
        "\n",
        "- Population: The entire group you’re interested in (e.g., all students in a country)\n",
        "\n",
        "- Sample: A smaller, representative group from the population\n",
        "\n",
        "You collect data from the sample and make inferences about the population.\n",
        "\n",
        "🧪 Core Methods of Inferential Statistics:\n",
        "\n",
        "✅ Hypothesis Testing\n",
        "\n",
        "Used to make decisions or test claims (e.g., \"Does this new drug work better than the old one?\")\n",
        "\n",
        "- Null hypothesis (H₀): Default assumption (e.g., \"No effect\")\n",
        "\n",
        "- Alternative hypothesis (H₁): What you want to prove\n",
        "\n",
        "- p-value: Helps you decide whether to reject the null hypothesis\n",
        "\n",
        "- Confidence Intervals\n",
        "\n",
        "Provide a range of values that likely contain the population parameter (e.g., \"We’re 95% confident the true mean is between 70 and 75.\")\n",
        "\n",
        "- Regression Analysis\n",
        "\n",
        "Shows the relationship between variables (e.g., \"Does studying more increase test scores?\")\n",
        "\n",
        "- ANOVA (Analysis of Variance)\n",
        "\n",
        "Compares means across 3 or more groups to see if at least one is significantly different.\n",
        "\n",
        "- Chi-Square Test\n",
        "\n",
        "Used for categorical data to test relationships (e.g., \"Is there a link between gender and preferred ice cream flavor?\")\n",
        "\n",
        "Purpose:\n",
        "\n",
        "    To make predictions, draw conclusions, or test hypotheses about a population based on sample data.\n",
        "\n",
        "Simple Example:\n",
        "\n",
        "Imagine you want to know the average height of high school students in your country. Instead of measuring everyone, you:\n",
        "\n",
        "    Take a sample of 200 students.\n",
        "\n",
        "    Calculate the sample mean height.\n",
        "\n",
        "    Use inferential statistics to estimate the average height for all students and measure how confident you are."
      ],
      "metadata": {
        "id": "nm1aWH--cewv"
      }
    },
    {
      "cell_type": "markdown",
      "source": [
        "### 5.What Is Sampling in Statistics?"
      ],
      "metadata": {
        "id": "Ci6Dhrv-ceuP"
      }
    },
    {
      "cell_type": "markdown",
      "source": [
        "Sampling is the process of selecting a subset (sample) from a larger group (population) to analyze and draw conclusions about the whole group.\n",
        "\n",
        "Since it's often impractical or impossible to collect data from every member of a population, sampling lets us work with a manageable amount of data while still gaining useful insights."
      ],
      "metadata": {
        "id": "6PSCy86rceru"
      }
    },
    {
      "cell_type": "markdown",
      "source": [
        "### 6. What are the different types of sampling methods?"
      ],
      "metadata": {
        "id": "RM4t9vaQcepf"
      }
    },
    {
      "cell_type": "markdown",
      "source": [
        " 1. Random Sampling\n",
        "\n",
        "Every member has an equal chance of being selected. Most statistically sound.\n",
        "\n",
        "🔹 2. Systematic Sampling\n",
        "\n",
        "Every k-th member is selected from a list (e.g., every 10th person)\n",
        "\n",
        "🔹 3. Stratified Sampling\n",
        "\n",
        "Population is divided into subgroups (strata), and samples are taken from each group proportionally.\n",
        "\n",
        "🔹 4. Cluster Sampling\n",
        "\n",
        "Population is divided into clusters (e.g., schools or regions), and whole clusters are randomly selected.\n",
        "\n",
        "🔹 5. Convenience Sampling\n",
        "\n",
        "Sample is taken from what’s easiest to access. Not ideal for generalizing (e.g., surveying people at a mall)."
      ],
      "metadata": {
        "id": "gyt-6qq9cenI"
      }
    },
    {
      "cell_type": "markdown",
      "source": [
        "### 7. What is the difference between random and non-random sampling?"
      ],
      "metadata": {
        "id": "S9FpbJm7ceku"
      }
    },
    {
      "cell_type": "markdown",
      "source": [
        "The main difference lies in how the sample is selected — whether each member of the population has a known and equal chance of being chosen.\n",
        "\n",
        "Random Sampling\n",
        "\n",
        "In random sampling, every individual in the population has a known, non-zero, and typically equal chance of being selected.\n",
        "\n",
        "🔹 Characteristics:\n",
        "\n",
        "    Unbiased selection process\n",
        "\n",
        "    Supports statistical inference (reliable generalization to the population)\n",
        "\n",
        "    Often requires a sampling frame (a complete list of the population)\n",
        "\n",
        "🔹 Types:\n",
        "\n",
        "    Simple Random Sampling: Purely random (e.g., lottery draw)\n",
        "\n",
        "    Stratified Sampling: Divide population into subgroups and sample each one\n",
        "\n",
        "    Cluster Sampling: Randomly select whole groups or clusters\n",
        "\n",
        "    Systematic Sampling: Select every k-th individual\n",
        "\n",
        "🟢 Example:\n",
        "\n",
        "Randomly choosing 100 employees from a company of 1,000 using a random number generator.\n",
        "\n",
        "2) Non-Random Sampling\n",
        "\n",
        "In non-random sampling (also called non-probability sampling), some members of the population may have zero or unknown chances of being selected.\n",
        "\n",
        "🔹 Characteristics:\n",
        "\n",
        "    Easier and cheaper to perform\n",
        "\n",
        "    May introduce bias\n",
        "\n",
        "    Less reliable for generalizing to the population\n",
        "\n",
        "🔹 Types:\n",
        "\n",
        "    Convenience Sampling: Selecting those who are easiest to reach (e.g., surveying people in a mall)\n",
        "\n",
        "    Judgmental/Purposive Sampling: Choosing individuals based on the researcher’s judgment\n",
        "\n",
        "    Quota Sampling: Sampling certain numbers from specific categories (like age or gender) without randomness\n",
        "\n",
        "    Snowball Sampling: Existing subjects recruit future subjects (used in hard-to-reach populations)\n",
        "\n",
        "🔴 Example:\n",
        "\n",
        "Surveying only your classmates to represent all students in your university.\n",
        "\n",
        "| Feature                  | Random Sampling | Non-Random Sampling           |\n",
        "| ------------------------ | --------------- | ----------------------------- |\n",
        "| Selection Method         | Based on chance | Based on convenience/judgment |\n",
        "| Bias Risk                | Low             | High                          |\n",
        "| Generalizability         | Strong          | Weak                          |\n",
        "| Cost & Complexity        | Higher          | Lower                         |\n",
        "| Requires Sampling Frame? | Usually yes     | Not always                    |\n"
      ],
      "metadata": {
        "id": "n-768C23ceix"
      }
    },
    {
      "cell_type": "markdown",
      "source": [
        "### 8. Define and give examples of qualitative and quantitative data?"
      ],
      "metadata": {
        "id": "LTqlKTOdcegY"
      }
    },
    {
      "cell_type": "markdown",
      "source": [
        "1. Qualitative Data (Categorical Data)\n",
        "🔹 Definition:\n",
        "\n",
        "Qualitative data describes qualities or characteristics that cannot be measured numerically. Instead, they are categorized based on traits or labels.\n",
        "\n",
        "🟢 Examples:\n",
        "\n",
        "    Colors: red, blue, green\n",
        "\n",
        "    Gender: male, female, non-binary\n",
        "\n",
        "    Yes/No responses\n",
        "\n",
        "    Types of cuisine: Italian, Chinese, Mexican\n",
        "\n",
        "    Customer satisfaction levels: satisfied, neutral, dissatisfied\n",
        "\n",
        "🔸 Subtypes:\n",
        "\n",
        "    Nominal: No natural order (e.g., blood type: A, B, AB, O)\n",
        "\n",
        "    Ordinal: Has a meaningful order, but no exact difference (e.g., rankings: first, second, third)\n",
        "\n",
        "2. Quantitative Data (Numerical Data)\n",
        "🔹 Definition:\n",
        "\n",
        "Quantitative data represents numerical values that can be measured or counted. You can perform mathematical operations on this data.\n",
        "\n",
        "🟢 Examples:\n",
        "\n",
        "    Age: 21, 35, 50\n",
        "\n",
        "    Height: 5.6 ft, 170 cm\n",
        "\n",
        "    Salary: $40,000, $65,000\n",
        "\n",
        "    Temperature: 22°C, 98.6°F\n",
        "\n",
        "    Test scores: 75, 88, 100\n",
        "\n",
        "🔸 Subtypes:\n",
        "\n",
        "    Discrete: Countable values (e.g., number of children: 0, 1, 2)\n",
        "\n",
        "    Continuous: Measurable and can take any value in a range (e.g., weight: 72.5 kg)\n",
        "\n",
        "| Feature           | Qualitative Data        | Quantitative Data    |\n",
        "| ----------------- | ----------------------- | -------------------- |\n",
        "| Nature            | Descriptive/Categorical | Numerical            |\n",
        "| Can be counted?   | No                      | Yes                  |\n",
        "| Mathematical Ops? | No                      | Yes                  |\n",
        "| Subtypes          | Nominal, Ordinal        | Discrete, Continuous |\n",
        "| Example           | Eye color: Brown        | Height: 180 cm       |\n"
      ],
      "metadata": {
        "id": "jkVDcKdnhBCc"
      }
    },
    {
      "cell_type": "markdown",
      "source": [
        "### 9. What are the different types of data in statistics?"
      ],
      "metadata": {
        "id": "h7mAxkFJhBAD"
      }
    },
    {
      "cell_type": "markdown",
      "source": [
        "🧩 1. Qualitative Data (Categorical Data)\n",
        "\n",
        "This data describes qualities, labels, or categories.\n",
        "🔸 A. Nominal Data\n",
        "\n",
        "    Categories without any order\n",
        "\n",
        "    📌 Examples: Gender (male/female), Blood type (A, B, AB, O), Colors (red, blue)\n",
        "\n",
        "🔸 B. Ordinal Data\n",
        "\n",
        "    Categories with a meaningful order, but differences between values are not measurable\n",
        "\n",
        "    📌 Examples: Movie ratings (poor, fair, good, excellent), Education level (high school, bachelor’s, master’s)\n",
        "\n",
        "\n",
        "    🔢 2. Quantitative Data (Numerical Data)\n",
        "\n",
        "This data is measurable and deals with numbers.\n",
        "🔸 A. Discrete Data\n",
        "\n",
        "    Countable, finite numbers\n",
        "\n",
        "    📌 Examples: Number of students in a class, Number of goals scored in a match\n",
        "\n",
        "🔸 B. Continuous Data\n",
        "\n",
        "    Can take any value in a range, often includes decimals\n",
        "\n",
        "    📌 Examples: Height, Weight, Temperature, Time\n",
        "\n",
        "🔄 Summary Table\n",
        "\n",
        "| Type             | Subtype    | Description                    | Example                |\n",
        "| ---------------- | ---------- | ------------------------------ | ---------------------- |\n",
        "| **Qualitative**  | Nominal    | Categories without order       | Eye color: blue, green |\n",
        "|                  | Ordinal    | Categories with order          | Rank: 1st, 2nd, 3rd    |\n",
        "| **Quantitative** | Discrete   | Countable values               | Number of books: 5     |\n",
        "|                  | Continuous | Measurable, can take any value | Height: 5.9 ft         |\n"
      ],
      "metadata": {
        "id": "y7PBnyoLhA9U"
      }
    },
    {
      "cell_type": "markdown",
      "source": [
        "### 10. Explain nominal, ordinal, interval, and ratio levels of measurement?"
      ],
      "metadata": {
        "id": "jLaZ67XHhA7E"
      }
    },
    {
      "cell_type": "markdown",
      "source": [
        "n statistics, levels of measurement refer to how data values are classified, ordered, and interpreted. There are four levels:\n",
        "\n",
        "1. Nominal Level\n",
        "\n",
        "🔹 Definition: Categorical data with no inherent order or ranking.\n",
        "\n",
        "🟢 Characteristics:\n",
        "\n",
        "    Labels or names\n",
        "\n",
        "    No mathematical meaning\n",
        "\n",
        "    Cannot be ordered\n",
        "\n",
        "📌 Examples:\n",
        "\n",
        "    Gender: Male, Female\n",
        "\n",
        "    Blood Type: A, B, AB, O\n",
        "\n",
        "    Hair Color: Blonde, Brown, Black\n",
        "\n",
        "2. Ordinal Level\n",
        "🔹 Definition:\n",
        "\n",
        "Categorical data that has a meaningful order, but the differences between values are not measurable.\n",
        "🟢 Characteristics:\n",
        "\n",
        "    Can be ranked\n",
        "\n",
        "    Intervals between values are not equal or known\n",
        "\n",
        "    No true zero\n",
        "\n",
        "📌 Examples:\n",
        "\n",
        "    Customer satisfaction: Poor, Fair, Good, Excellent\n",
        "\n",
        "    Education level: High school, Bachelor’s, Master’s, PhD\n",
        "\n",
        "    Class rank: 1st, 2nd, 3rd\n",
        "\n",
        "3. Interval Level\n",
        "\n",
        "🔹 Definition: Numerical data with meaningful differences between values, but no true zero point.\n",
        "\n",
        "🟢 Characteristics:\n",
        "\n",
        "    Ordered\n",
        "\n",
        "    Equal intervals\n",
        "\n",
        "    Zero does not mean absence\n",
        "\n",
        "📌 Examples:\n",
        "\n",
        "    Temperature in Celsius or Fahrenheit (0°C doesn’t mean “no temperature”)\n",
        "\n",
        "    Dates on a calendar (difference between years is meaningful)\n",
        "\n",
        "\n",
        "4. Ratio Level\n",
        "\n",
        "🔹 Definition: Numerical data with all the properties of interval data, plus a true zero.\n",
        "\n",
        "🟢 Characteristics:\n",
        "\n",
        "    Ordered\n",
        "\n",
        "    Equal intervals\n",
        "\n",
        "    True zero (zero means absence of the quantity)\n",
        "\n",
        "    Ratios are meaningful (e.g., 20 is twice 10)\n",
        "\n",
        "📌 Examples:\n",
        "\n",
        "    Height, Weight\n",
        "\n",
        "    Age\n",
        "\n",
        "    Income\n",
        "\n",
        "    Distance\n",
        "    \n",
        "🔁 Summary Table\n",
        "\n",
        "| Level        | Ordered? | Equal Intervals? | True Zero? | Examples                        |\n",
        "| ------------ | -------- | ---------------- | ---------- | ------------------------------- |\n",
        "| **Nominal**  | ❌        | ❌                | ❌          | Blood type, Gender              |\n",
        "| **Ordinal**  | ✅        | ❌                | ❌          | Rankings, Satisfaction levels   |\n",
        "| **Interval** | ✅        | ✅                | ❌          | Temperature (°C, °F), IQ scores |\n",
        "| **Ratio**    | ✅        | ✅                | ✅          | Height, Weight, Age, Salary     |\n"
      ],
      "metadata": {
        "id": "3psmmEHDhA0E"
      }
    },
    {
      "cell_type": "markdown",
      "source": [
        "### 11. What is the measure of central tendency?"
      ],
      "metadata": {
        "id": "VdwHUBj-hAxW"
      }
    },
    {
      "cell_type": "markdown",
      "source": [
        "A measure of central tendency is a single value that summarizes or represents the center point of a dataset. It gives you a general idea of where most values in a data distribution lie.\n",
        "\n",
        "📊 The Three Main Measures:\n",
        "1. Mean (Arithmetic Average)\n",
        "\n",
        "- Definition: Sum of all values divided by the number of values\n",
        "\n",
        "- Formula:\n",
        "\n",
        "    Mean=∑xn\n",
        "\n",
        "    Mean=n∑x​\n",
        "\n",
        "- Example:\n",
        "\n",
        "    For data: 5, 10, 15\n",
        "\n",
        "    Mean = (5 + 10 + 15) / 3 = 10\n",
        "\n",
        "- ✅ Best used when data is symmetrical and has no outliers\n",
        "\n",
        "2. Median\n",
        "\n",
        "- Definition: The middle value when the data is ordered\n",
        "\n",
        "- If even number of values: take the average of the two middle values\n",
        "\n",
        "- Example:\n",
        "    Data: 3, 7, 9\n",
        "\n",
        "    Median = 7\n",
        "\n",
        "    Data: 2, 4, 6, 8\n",
        "\n",
        "    Median = (4 + 6)/2 = 5\n",
        "\n",
        "- ✅ Best used when data has outliers or is skewed\n",
        "\n",
        "3. Mode\n",
        "\n",
        "- Definition: The most frequently occurring value(s) in a dataset\n",
        "\n",
        "- Can be more than one mode (bimodal, multimodal) or none\n",
        "\n",
        "- Example:\n",
        "\n",
        "    Data: 1, 2, 2, 3, 4\n",
        "\n",
        "    Mode = 2\n",
        "\n",
        "- ✅ Useful for categorical data or understanding frequency\n",
        "\n",
        "\n",
        "🧮 Quick Comparison Table:\n",
        "\n",
        "| Measure | Description         | Best Use Case                            |\n",
        "| ------- | ------------------- | ---------------------------------------- |\n",
        "| Mean    | Arithmetic average  | Symmetrical data without outliers        |\n",
        "| Median  | Middle value        | Skewed data or when outliers are present |\n",
        "| Mode    | Most frequent value | Categorical or repeated value analysis   |\n"
      ],
      "metadata": {
        "id": "4HIW1c5UhAvM"
      }
    },
    {
      "cell_type": "markdown",
      "source": [
        "### 12. Define mean, median, and mode"
      ],
      "metadata": {
        "id": "geigICCNhAsc"
      }
    },
    {
      "cell_type": "markdown",
      "source": [
        "1. Mean\n",
        "\n",
        "    Definition: The mean is the average of a set of numbers.\n",
        "\n",
        "    How to find it: Add up all the numbers, then divide by how many numbers there are.\n",
        "\n",
        "    Example: For the data set [2, 4, 6, 8],\n",
        "    Mean = (2 + 4 + 6 + 8) ÷ 4 = 20 ÷ 4 = 5\n",
        "\n",
        "2. Median\n",
        "\n",
        "    Definition: The median is the middle value when the numbers are arranged in order.\n",
        "\n",
        "    How to find it: Sort the data, then pick the middle number. If there’s an even number of values, take the average of the two middle numbers.\n",
        "\n",
        "    Example:\n",
        "\n",
        "        For [3, 1, 4], sorted is [1, 3, 4], median is 3\n",
        "\n",
        "        For [3, 1, 4, 2], sorted is [1, 2, 3, 4], median is (2 + 3) ÷ 2 = 2.5\n",
        "\n",
        "3. Mode\n",
        "\n",
        "    Definition: The mode is the value that appears most frequently in a data set.\n",
        "\n",
        "    How to find it: Identify the number(s) that occur most often. There can be more than one mode or none if all numbers appear equally.\n",
        "\n",
        "    Example:\n",
        "\n",
        "        For [1, 2, 2, 3], mode is 2\n",
        "\n",
        "        For [1, 1, 2, 2], modes are 1 and 2 (bimodal)\n",
        "\n",
        "        For [1, 2, 3], no mode (all appear once)"
      ],
      "metadata": {
        "id": "g0qvVnNNhApc"
      }
    },
    {
      "cell_type": "markdown",
      "source": [
        "### 13. What is the significance of the measure of central tendency"
      ],
      "metadata": {
        "id": "ysLtZ931hAm0"
      }
    },
    {
      "cell_type": "markdown",
      "source": [
        "The measures of central tendency (mean, median, and mode) are fundamental in statistics because they:\n",
        "1. Summarize Data with a Single Value\n",
        "\n",
        "    They provide a simple summary that represents the entire dataset, making large and complex data easier to understand.\n",
        "\n",
        "    Instead of looking at every number, you get a quick idea of the “center” or “typical” value.\n",
        "\n",
        "2. Help Compare Different Datasets\n",
        "\n",
        "    By comparing means or medians of different groups, you can easily see which group tends to have higher or lower values.\n",
        "\n",
        "    Useful in business, research, and many fields to compare performance, trends, or conditions.\n",
        "\n",
        "3. Aid in Decision Making\n",
        "\n",
        "    Knowing the central tendency helps make informed decisions, like setting prices, evaluating average test scores, or assessing customer satisfaction.\n",
        "\n",
        "    For example, a company might price a product near the average income of their target market.\n",
        "\n",
        "4. Foundation for Other Statistical Analysis\n",
        "\n",
        "    Measures like variance, standard deviation, and correlation depend on the mean.\n",
        "\n",
        "    Understanding the center helps analyze how data spread or vary around it.\n",
        "\n",
        "5. Interpret Data Distribution\n",
        "\n",
        "    Differences between mean and median can reveal skewness in the data.\n",
        "\n",
        "    Mode helps identify the most common or popular category/value, which is useful in categorical data.\n",
        "\n",
        "- Quick Example:\n",
        "\n",
        "    If the average salary (mean) in a company is $60,000, that tells you a typical employee’s earnings.\n",
        "\n",
        "    If the median is much lower than the mean, it might suggest that a few very high salaries are skewing the average.\n",
        "\n",
        "- In Short:\n",
        "\n",
        "    Measures of central tendency provide a meaningful snapshot of data, helping us to understand, compare, and make decisions based on numerical information."
      ],
      "metadata": {
        "id": "vGWzh6fJhAkG"
      }
    },
    {
      "cell_type": "markdown",
      "source": [
        "### 14. What is variance, and how is it calculated"
      ],
      "metadata": {
        "id": "fVJos7FthAhj"
      }
    },
    {
      "cell_type": "markdown",
      "source": [
        "📉 What Is Variance?\n",
        "\n",
        "Variance is a measure of how much the values in a dataset spread out or vary from the mean (average). It tells you the average squared distance of each data point from the mean.\n",
        "\n",
        "    A small variance means data points are close to the mean (less spread out).\n",
        "\n",
        "    A large variance means data points are spread out over a wider range.\n",
        "\n",
        "🧮 How Is Variance Calculated?\n",
        "\n",
        "For a dataset with values x1,x2,...,xnx1​,x2​,...,xn​ and mean xˉxˉ:\n",
        "\n",
        "    Find the mean:\n",
        "    \n",
        "    xˉ =1n ∑ i=1n xi\n",
        "    xˉ= n1  =1∑n ​xi​\n",
        "\n",
        "    Calculate the squared difference of each value from the mean:\n",
        "\n",
        "    (xi−xˉ)2\n",
        "\n",
        "    (xi​−xˉ)2\n",
        "\n",
        "    Find the average of those squared differences.\n",
        "\n",
        "Formulas:\n",
        "\n",
        "    Population variance (when you have data for the entire population):\n",
        "\n",
        "    σ2=1/N N ∑ i=1N(xi−μ)2\n",
        "\n",
        "    σ2=N1​i=1∑N​(xi​−μ)2\n",
        "\n",
        "    Sample variance (when you have a sample from the population):\n",
        "\n",
        "    s2=1n−1∑i=1n(xi−xˉ)2\n",
        "\n",
        "    s2=n−11​i=1∑n​(xi​−xˉ)2\n",
        "\n",
        "    Note: The sample variance divides by n−1n−1 (degrees of freedom) to give an unbiased estimate of the population variance.\n",
        "\n"
      ],
      "metadata": {
        "id": "thnU-oiphAe8"
      }
    },
    {
      "cell_type": "markdown",
      "source": [
        "### 15. What is standard deviation, and why is it important"
      ],
      "metadata": {
        "id": "Z1-mrOkehAcU"
      }
    },
    {
      "cell_type": "markdown",
      "source": [
        "📏 What Is Standard Deviation?\n",
        "\n",
        "Standard deviation is a statistical measure that tells you how spread out the values in a dataset are from the mean (average). It is the square root of the variance, and it gives spread in the same units as the data.\n",
        "🧠 Simple Definition:\n",
        "\n",
        "    Standard deviation measures the \"typical distance\" of data points from the mean.\n",
        "\n",
        "📊 Why Is Standard Deviation Important?\n",
        "\n",
        "✅ 1. Describes Data Spread\n",
        "\n",
        "    A small standard deviation means most values are close to the mean.\n",
        "\n",
        "    A large standard deviation means values are more spread out.\n",
        "\n",
        "✅ 2. Useful for Comparison\n",
        "\n",
        "    Helps compare variability between datasets.\n",
        "\n",
        "    For example, two groups may have the same mean but different standard deviations.\n",
        "\n",
        "✅ 3. Foundation of Many Analyses\n",
        "\n",
        "    Used in normal distribution, z-scores, and confidence intervals.\n",
        "\n",
        "    Important in finance (e.g., to measure investment risk) and quality control (e.g., product consistency).\n",
        "\n",
        "✅ 4. Predictability\n",
        "\n",
        "    In a normal distribution, about:\n",
        "\n",
        "        68% of data falls within ±1 standard deviation\n",
        "\n",
        "        95% within ±2 standard deviations\n",
        "\n",
        "        99.7% within ±3 standard deviations"
      ],
      "metadata": {
        "id": "a8kcRHY0hAZc"
      }
    },
    {
      "cell_type": "markdown",
      "source": [
        "### 16. Define and explain the term range in statistics"
      ],
      "metadata": {
        "id": "Vy8BB72ghAW0"
      }
    },
    {
      "cell_type": "markdown",
      "source": [
        "📏 What Is Range in Statistics?\n",
        "\n",
        "Range is one of the simplest measures of dispersion (spread) in a dataset. It shows how much the values in a dataset vary from the smallest to the largest value.\n",
        "🔹 Definition:\n",
        "\n",
        "    The range is the difference between the maximum and minimum values in a dataset.\n",
        "\n",
        "🧮 Formula:\n",
        "Range=Maximum value−Minimum value\n",
        "Range=Maximum value−Minimum value\n",
        "📌 Example:\n",
        "\n",
        "Data: [3, 7, 9, 15, 21]\n",
        "\n",
        "    Maximum = 21\n",
        "\n",
        "    Minimum = 3\n",
        "\n",
        "    Range = 21 - 3 = 18\n",
        "\n",
        "🧠 Why Is Range Important?\n",
        "\n",
        "✅ 1. Quick Summary of Spread\n",
        "\n",
        "It gives a fast, simple indication of how spread out the data is.\n",
        "✅ 2. Easy to Calculate\n",
        "\n",
        "Helpful when a quick measure is needed or for small datasets.\n",
        "⚠️ 3. Sensitive to Outliers\n",
        "\n",
        "Because it only uses the two extreme values, the range can be misleading if there are outliers (unusually high or low values).\n",
        "\n",
        "🔁 Compare with Other Measures:\n",
        "\n",
        "| Measure     | Description                    | Sensitive to Outliers?  |\n",
        "| ----------- | ------------------------------ | ----------------------- |\n",
        "| **Range**   | Max - Min                      | ✅ Yes                   |\n",
        "| **IQR**     | Middle 50% spread (Q3 - Q1)    | ❌ Less sensitive        |\n",
        "| **Std Dev** | Average distance from the mean | ✅ Yes (but more robust) |\n"
      ],
      "metadata": {
        "id": "_FPXLZ3KhAUE"
      }
    },
    {
      "cell_type": "markdown",
      "source": [
        "### 17. What is the difference between variance and standard deviation"
      ],
      "metadata": {
        "id": "JNqcDS73hARU"
      }
    },
    {
      "cell_type": "markdown",
      "source": [
        "🎯 3. Key Differences\n",
        "\n",
        "| Feature                     | Variance                           | Standard Deviation                           |\n",
        "| --------------------------- | ---------------------------------- | -------------------------------------------- |\n",
        "| **Units**                   | **Squared units** (e.g., cm², \\$²) | **Same units** as the data (e.g., cm, \\$)    |\n",
        "| **Interpretability**        | Less intuitive                     | Easier to understand                         |\n",
        "| **Use in calculations**     | Used to derive standard deviation  | Used directly in interpretation and z-scores |\n",
        "| **Sensitivity to outliers** | High                               | High                                         |\n"
      ],
      "metadata": {
        "id": "8XIU23whyA_a"
      }
    },
    {
      "cell_type": "markdown",
      "source": [
        "### 18. What is skewness in a dataset"
      ],
      "metadata": {
        "id": "NQm5NzelyCY5"
      }
    },
    {
      "cell_type": "markdown",
      "source": [
        "🔄 What Is Skewness in a Dataset?\n",
        "\n",
        "Skewness is a measure of the asymmetry of a data distribution around its mean. It tells you whether the data is symmetrically distributed, or if it's leaning more to one side.\n",
        "\n",
        "📊 Types of Skewness:\n",
        "\n",
        "1. Symmetrical (Zero Skewness)\n",
        "\n",
        "    The left and right sides of the distribution are mirror images.\n",
        "\n",
        "    Mean = Median = Mode\n",
        "\n",
        "    Example: Perfect normal distribution\n",
        "\n",
        "2. Positive Skew (Right-Skewed)\n",
        "\n",
        "    The tail is longer on the right side.\n",
        "\n",
        "    Mean > Median > Mode\n",
        "\n",
        "    Most values are on the lower end, a few large values pull the mean upward.\n",
        "\n",
        "    Example: Income distribution in most countries\n",
        "\n",
        "3. Negative Skew (Left-Skewed)\n",
        "\n",
        "    The tail is longer on the left side.\n",
        "\n",
        "    Mean < Median < Mode\n",
        "\n",
        "    Most values are on the higher end, a few small values pull the mean downward.\n",
        "\n",
        "    Example: Age at retirement (most people retire around the same age, few retire very early)\n",
        "\n",
        "\n",
        "🧠 Why Is Skewness Important?\n",
        "\n",
        "    Affects choice of mean vs. median as a better measure of center.\n",
        "\n",
        "    Impacts the assumptions behind many statistical tests (like t-tests and regression).\n",
        "\n",
        "    Helps detect outliers or anomalies in data."
      ],
      "metadata": {
        "id": "4hsqO3nHyCWb"
      }
    },
    {
      "cell_type": "markdown",
      "source": [
        "### 19. What does it mean if a dataset is positively or negatively skewed"
      ],
      "metadata": {
        "id": "2Z5VY-19yWfV"
      }
    },
    {
      "cell_type": "markdown",
      "source": [
        "Skewness describes the direction and shape of a dataset’s distribution — specifically, whether the tail is stretched more toward the left or the right of the mean.\n",
        "\n",
        "➕ Positively Skewed (Right-Skewed)\n",
        "\n",
        "📌 Meaning:\n",
        "\n",
        "    The tail extends to the right (toward higher values).\n",
        "\n",
        "    Most data points are clustered on the left, with a few large values pulling the mean upward.\n",
        "\n",
        "🔹 Characteristics:\n",
        "\n",
        "    Mean > Median > Mode\n",
        "\n",
        "    Long tail on the right\n",
        "\n",
        "    Common in income, house prices, sales figures\n",
        "\n",
        "📊 Example:\n",
        "\n",
        "Data: [20, 25, 30, 35, 40, 90]\n",
        "\n",
        "Mean ≈ 40, Median = 32.5 → Skewed right\n",
        "\n",
        "➖ Negatively Skewed (Left-Skewed)\n",
        "\n",
        "📌 Meaning:\n",
        "\n",
        "    The tail extends to the left (toward lower values).\n",
        "\n",
        "    Most data points are clustered on the right, with a few small values pulling the mean downward.\n",
        "\n",
        "🔹 Characteristics:\n",
        "\n",
        "    Mean < Median < Mode\n",
        "\n",
        "    Long tail on the left\n",
        "\n",
        "    Common in test scores (where most students score high) or retirement ages\n",
        "\n",
        "📊 Example:\n",
        "\n",
        "Data: [20, 50, 55, 60, 65, 70]\n",
        "\n",
        "Mean ≈ 53, Median = 57.5 → Skewed left\n",
        "\n",
        "🧠 Why Does Skewness Matter?\n",
        "\n",
        "    Impacts which measures of central tendency you should use:\n",
        "\n",
        "    Use median if data is skewed (more robust than mean).\n",
        "\n",
        "    Affects assumptions in statistical tests (many assume normal distribution).\n",
        "\n",
        "    Helps identify outliers or data entry errors."
      ],
      "metadata": {
        "id": "CMARiBK4yWdP"
      }
    },
    {
      "cell_type": "markdown",
      "source": [
        "### 20.Define and explain kurtosis"
      ],
      "metadata": {
        "id": "y3X6q-pJyWbB"
      }
    },
    {
      "cell_type": "markdown",
      "source": [
        "📈 What Is Kurtosis in Statistics?\n",
        "\n",
        "Kurtosis is a statistical measure that describes the \"tailedness\" or peakedness of a data distribution. It tells you how much of the data is in the tails (extreme values) versus the center.\n",
        "\n",
        "    In simpler terms: kurtosis tells you whether the data has more or fewer outliers than a normal distribution.\n",
        "\n",
        "🧮 Types of Kurtosis\n",
        "\n",
        "1. Mesokurtic (Normal Kurtosis)\n",
        "\n",
        "    Kurtosis ≈ 3 (Excess kurtosis = 0)\n",
        "\n",
        "    Indicates a normal distribution\n",
        "\n",
        "    Moderate peak and tails\n",
        "    📌 Example: Bell curve\n",
        "\n",
        "2. Leptokurtic (High Kurtosis)\n",
        "\n",
        "    Kurtosis > 3 (Excess kurtosis > 0)\n",
        "\n",
        "    Sharp peak and fat tails\n",
        "\n",
        "    More extreme outliers\n",
        "    📌 Example: Stock market returns\n",
        "\n",
        "3. Platykurtic (Low Kurtosis)\n",
        "\n",
        "    Kurtosis < 3 (Excess kurtosis < 0)\n",
        "\n",
        "    Flat peak and thin tails\n",
        "\n",
        "    Fewer outliers\n",
        "    📌 Example: Uniform or flat-topped distributions\n",
        "\n",
        "🧠 Key Concepts:\n",
        "\n",
        "| Type            | Shape             | Tails    | Outliers          |\n",
        "| --------------- | ----------------- | -------- | ----------------- |\n",
        "| **Mesokurtic**  | Normal bell shape | Moderate | Normal amount     |\n",
        "| **Leptokurtic** | Taller peak       | Heavier  | More than normal  |\n",
        "| **Platykurtic** | Flatter peak      | Lighter  | Fewer than normal |\n"
      ],
      "metadata": {
        "id": "ip1-5x5ZyWYe"
      }
    },
    {
      "cell_type": "markdown",
      "source": [
        "### 21. What is the purpose of covariance?"
      ],
      "metadata": {
        "id": "fgohZ1GMyWWZ"
      }
    },
    {
      "cell_type": "markdown",
      "source": [
        "📈 What Is the Purpose of Covariance in Statistics?\n",
        "\n",
        "Covariance measures how two variables change together — it tells you the direction of their relationship, but not the strength.\n",
        "\n",
        "🔍 Purpose of Covariance:\n",
        "\n",
        "    To determine whether two variables move in the same direction, opposite directions, or are unrelated.\n",
        "\n",
        "📌 Key Ideas:\n",
        "\n",
        "| Covariance Value | Interpretation                                                  |\n",
        "| ---------------- | --------------------------------------------------------------- |\n",
        "| **> 0**          | Variables **increase together** (positive relationship)         |\n",
        "| **< 0**          | One increases while the other decreases (negative relationship) |\n",
        "| **= 0**          | No consistent relationship between the variables                |\n",
        "\n",
        "\n",
        "✅ Why Is Covariance Important?\n",
        "\n",
        "- Identifies Relationships Between Variables\n",
        "\n",
        "        Useful in economics, finance, machine learning, and data analysis.\n",
        "\n",
        "- Foundation for Correlation\n",
        "\n",
        "        Correlation is a standardized version of covariance (between -1 and 1), making it easier to interpret.\n",
        "\n",
        "- Portfolio Theory\n",
        "\n",
        "        In finance, covariance shows how the returns of two assets move together — essential for risk diversification.\n"
      ],
      "metadata": {
        "id": "JYsrk_KLyWUA"
      }
    },
    {
      "cell_type": "markdown",
      "source": [
        "### 22.What does correlation measure in statistics"
      ],
      "metadata": {
        "id": "TEICnLMxyWRZ"
      }
    },
    {
      "cell_type": "markdown",
      "source": [
        "Correlation measures the strength and direction of a linear relationship between two variables.\n",
        "\n",
        "🔍 In Simple Terms:\n",
        "\n",
        "    Correlation tells you how closely two variables move together — and in which direction.\n",
        "\n",
        "🧮 Correlation Coefficient (r):\n",
        "\n",
        "    Value ranges from -1 to +1:\n",
        "\n",
        "| Value of $r$ | Relationship Type                |\n",
        "| ------------ | -------------------------------- |\n",
        "| **+1**       | Perfect **positive** correlation |\n",
        "| **0**        | **No** linear correlation        |\n",
        "| **–1**       | Perfect **negative** correlation |\n",
        "\n",
        "📌 Types of Correlation:\n",
        "\n",
        "| Type                     | Description                                            |\n",
        "| ------------------------ | ------------------------------------------------------ |\n",
        "| **Positive Correlation** | As one variable increases, the other tends to increase |\n",
        "| **Negative Correlation** | As one variable increases, the other tends to decrease |\n",
        "| **Zero Correlation**     | No linear relationship between the variables           |\n",
        "\n",
        "\n",
        "✅ Why Is Correlation Important?\n",
        "\n",
        "    Quantifies relationships — essential in fields like economics, biology, psychology, and machine learning.\n",
        "\n",
        "    Helps make predictions — if two variables are correlated, one can help estimate the other.\n",
        "\n",
        "    Supports decision making — e.g., understanding if marketing spend is related to sales."
      ],
      "metadata": {
        "id": "KEJofR_yyWOy"
      }
    },
    {
      "cell_type": "markdown",
      "source": [
        "### 23. What is the difference between covariance and correlation"
      ],
      "metadata": {
        "id": "Ovoc15HMyCT1"
      }
    },
    {
      "cell_type": "markdown",
      "source": [
        "| Feature              | **Covariance**                                                         | **Correlation**                                                        |\n",
        "| -------------------- | ---------------------------------------------------------------------- | ---------------------------------------------------------------------- |\n",
        "| **Definition**       | Measures the **direction** of a linear relationship                    | Measures both **direction and strength** of a linear relationship      |\n",
        "| **Scale**            | **Unbounded** — values can range from $-\\infty$ to $+\\infty$           | **Bounded** between **-1 and +1**                                      |\n",
        "| **Units**            | Product of units of X and Y (e.g., kg·cm)                              | **Unitless** (standardized)                                            |\n",
        "| **Interpretability** | Harder to interpret directly                                           | Easy to interpret due to fixed range                                   |\n",
        "| **Formula**          | $\\text{Cov}(X, Y) = \\frac{1}{n-1} \\sum (x_i - \\bar{x})(y_i - \\bar{y})$ | $\\text{Corr}(X, Y) = \\frac{\\text{Cov}(X, Y)}{\\sigma_X \\cdot \\sigma_Y}$ |\n",
        "\n",
        "\n",
        "\n",
        "📌 Key Differences Explained:\n",
        "\n",
        "✅ 1. Meaning\n",
        "\n",
        "    Covariance: Shows if variables increase/decrease together (positive/negative).\n",
        "\n",
        "    Correlation: Shows how strongly they move together, and in what direction.\n",
        "\n",
        "✅ 2. Standardization\n",
        "\n",
        "    Covariance is raw and depends on units.\n",
        "\n",
        "    Correlation is standardized (based on standard deviations), so you can compare it across different datasets.\n",
        "\n",
        "✅ 3. Range\n",
        "\n",
        "    Covariance: Can be any real number — makes it hard to judge the strength of the relationship.\n",
        "\n",
        "    Correlation: Always between -1 and 1, making it easy to interpret:\n",
        "\n",
        "        +1 = perfect positive linear relationship\n",
        "\n",
        "        0 = no linear relationship\n",
        "\n",
        "        –1 = perfect negative linear relationship"
      ],
      "metadata": {
        "id": "msZYnumFyCRZ"
      }
    },
    {
      "cell_type": "markdown",
      "source": [
        "### 24. What are some real-world applications of statistics"
      ],
      "metadata": {
        "id": "CBZZl0YWyCOh"
      }
    },
    {
      "cell_type": "markdown",
      "source": [
        "Statistics is everywhere — it helps us analyze data, make decisions, and understand trends in virtually every field. Here are some key real-world applications:\n",
        "\n",
        "🏥 1. Healthcare & Medicine\n",
        "\n",
        "    Clinical trials: Testing effectiveness of new drugs or treatments\n",
        "\n",
        "    Epidemiology: Tracking disease outbreaks (e.g., COVID-19)\n",
        "\n",
        "    Medical research: Analyzing patient outcomes, risk factors, and health trends\n",
        "\n",
        "    Predictive modeling: Forecasting hospital admissions or patient deterioration\n",
        "\n",
        "📈 2. Business & Marketing\n",
        "\n",
        "    Market research: Understanding customer preferences and behavior\n",
        "\n",
        "    Sales forecasting: Predicting future product demand\n",
        "\n",
        "    Customer analytics: Segmenting customers based on buying patterns\n",
        "\n",
        "    A/B testing: Comparing different marketing strategies or website designs\n",
        "\n",
        "💰 3. Finance & Economics\n",
        "\n",
        "    Risk assessment: Evaluating investment portfolios\n",
        "\n",
        "    Stock market analysis: Identifying trends and making forecasts\n",
        "\n",
        "    Insurance: Setting premiums based on statistical models\n",
        "\n",
        "    Economic modeling: Predicting inflation, unemployment, or GDP growth\n",
        "\n",
        "🎓 4. Education\n",
        "\n",
        "    Standardized testing: Evaluating student performance (e.g., SAT, GRE)\n",
        "\n",
        "    Program evaluation: Measuring the effectiveness of teaching methods\n",
        "\n",
        "    Admissions: Using statistical models for fair student selection\n",
        "\n",
        "👮 5. Government & Policy Making\n",
        "\n",
        "    Census data analysis: Population trends, housing, demographics\n",
        "\n",
        "    Public policy: Evaluating the impact of laws or social programs\n",
        "\n",
        "    Crime statistics: Monitoring and predicting crime rates\n",
        "\n",
        "🧬 6. Science & Research\n",
        "\n",
        "    Experimental design: Ensuring reliable and valid scientific results\n",
        "\n",
        "    Data analysis: Identifying patterns in environmental, biological, or physical data\n",
        "\n",
        "    Hypothesis testing: Supporting or refuting scientific claims\n",
        "\n",
        "🛰️ 7. Technology & Artificial Intelligence\n",
        "\n",
        "    Machine learning: Algorithms depend on statistical principles\n",
        "\n",
        "    Data mining: Finding hidden patterns in large datasets\n",
        "\n",
        "    Recommendation systems: Used by Netflix, Amazon, Spotify, etc.\n",
        "\n",
        "🏟️ 8. Sports & Entertainment\n",
        "\n",
        "    Performance analysis: Evaluating players using statistics (e.g., batting average)\n",
        "\n",
        "    Game strategy: Using data to improve team performance\n",
        "\n",
        "    Fan engagement: Analyzing ticket sales and viewer trends"
      ],
      "metadata": {
        "id": "3ogNTozuF122"
      }
    },
    {
      "cell_type": "markdown",
      "source": [
        "# Practical"
      ],
      "metadata": {
        "id": "aO8d2dtPGCjk"
      }
    },
    {
      "cell_type": "code",
      "source": [
        "# 1. How do you calculate the mean, median, and mode of a dataset\n",
        "\n",
        "import statistics as stats\n",
        "\n",
        "data = [4, 7, 2, 9, 7, 4, 7]\n",
        "\n",
        "mean = stats.mean(data)\n",
        "median = stats.median(data)\n",
        "mode = stats.mode(data)\n",
        "\n",
        "print(\"Mean:\", mean)\n",
        "print(\"Median:\", median)\n",
        "print(\"Mode:\", mode)\n"
      ],
      "metadata": {
        "id": "s-dLk56Wx96X",
        "colab": {
          "base_uri": "https://localhost:8080/"
        },
        "outputId": "e82b8685-6f4a-4f02-ad8b-aef8f06b4e45"
      },
      "execution_count": 1,
      "outputs": [
        {
          "output_type": "stream",
          "name": "stdout",
          "text": [
            "Mean: 5.714285714285714\n",
            "Median: 7\n",
            "Mode: 7\n"
          ]
        }
      ]
    },
    {
      "cell_type": "code",
      "source": [
        "# 2. Write a Python program to compute the variance and standard deviation of a dataset\n",
        "\n",
        "import statistics\n",
        "\n",
        "# Example dataset\n",
        "data = [10, 12, 23, 23, 16, 23, 21, 16]\n",
        "\n",
        "# Compute population variance and standard deviation\n",
        "variance = statistics.pvariance(data)\n",
        "std_deviation = statistics.pstdev(data)\n",
        "\n",
        "# Output results\n",
        "print(f\"Data: {data}\")\n",
        "print(f\"Population Variance: {variance}\")\n",
        "print(f\"Population Standard Deviation: {std_deviation}\")\n",
        "\n",
        "# Optionally, compute sample variance and standard deviation\n",
        "sample_variance = statistics.variance(data)\n",
        "sample_std_deviation = statistics.stdev(data)\n",
        "\n",
        "print(f\"Sample Variance: {sample_variance}\")\n",
        "print(f\"Sample Standard Deviation: {sample_std_deviation}\")\n"
      ],
      "metadata": {
        "id": "CrQCOzYlHxZs",
        "colab": {
          "base_uri": "https://localhost:8080/"
        },
        "outputId": "a9f02042-01e3-487b-f3ea-9800c653fb1c"
      },
      "execution_count": 3,
      "outputs": [
        {
          "output_type": "stream",
          "name": "stdout",
          "text": [
            "Data: [10, 12, 23, 23, 16, 23, 21, 16]\n",
            "Population Variance: 24\n",
            "Population Standard Deviation: 4.898979485566356\n",
            "Sample Variance: 27.428571428571427\n",
            "Sample Standard Deviation: 5.237229365663818\n"
          ]
        }
      ]
    },
    {
      "cell_type": "code",
      "source": [
        "# 3. Create a dataset and classify it into nominal, ordinal, interval, and ratio types\n",
        "\n",
        "# Sample dataset represented as a list of dictionaries\n",
        "students = [\n",
        "    {\"Student_ID\": \"001\", \"Name\": \"Alice\", \"Gender\": \"Female\", \"Grade_Level\": \"Freshman\", \"Exam_Score\": 88, \"Temperature_C\": 22, \"Height_cm\": 160},\n",
        "    {\"Student_ID\": \"002\", \"Name\": \"Bob\", \"Gender\": \"Male\", \"Grade_Level\": \"Sophomore\", \"Exam_Score\": 75, \"Temperature_C\": 21, \"Height_cm\": 172},\n",
        "    {\"Student_ID\": \"003\", \"Name\": \"Charlie\", \"Gender\": \"Male\", \"Grade_Level\": \"Junior\", \"Exam_Score\": 92, \"Temperature_C\": 22, \"Height_cm\": 168},\n",
        "    {\"Student_ID\": \"004\", \"Name\": \"Diana\", \"Gender\": \"Female\", \"Grade_Level\": \"Senior\", \"Exam_Score\": 85, \"Temperature_C\": 20, \"Height_cm\": 165}\n",
        "]\n",
        "\n",
        "# Variable types classification\n",
        "measurement_scales = {\n",
        "    \"Student_ID\": \"Nominal\",     # Unique identifier\n",
        "    \"Name\": \"Nominal\",           # Just a label\n",
        "    \"Gender\": \"Nominal\",         # Categories with no order\n",
        "    \"Grade_Level\": \"Ordinal\",    # Ordered categories\n",
        "    \"Exam_Score\": \"Ratio\",       # Numeric, true zero, meaningful ratios\n",
        "    \"Temperature_C\": \"Interval\", # Numeric, but zero doesn't mean 'no temperature'\n",
        "    \"Height_cm\": \"Ratio\"         # Numeric, has true zero, meaningful ratios\n",
        "}\n",
        "\n",
        "# Print classification\n",
        "print(\"Variable Measurement Scales:\\n\")\n",
        "for variable, scale in measurement_scales.items():\n",
        "    print(f\"{variable}: {scale}\")\n"
      ],
      "metadata": {
        "colab": {
          "base_uri": "https://localhost:8080/"
        },
        "id": "kxssxaF3hSWX",
        "outputId": "6670cd61-05c8-466c-f31c-65fef307acdb"
      },
      "execution_count": 4,
      "outputs": [
        {
          "output_type": "stream",
          "name": "stdout",
          "text": [
            "Variable Measurement Scales:\n",
            "\n",
            "Student_ID: Nominal\n",
            "Name: Nominal\n",
            "Gender: Nominal\n",
            "Grade_Level: Ordinal\n",
            "Exam_Score: Ratio\n",
            "Temperature_C: Interval\n",
            "Height_cm: Ratio\n"
          ]
        }
      ]
    },
    {
      "cell_type": "code",
      "source": [
        "# 4. Implement sampling techniques like random sampling and stratified sampling\n",
        "\n",
        "import pandas as pd\n",
        "import random\n",
        "\n",
        "# Sample dataset: students with gender (as strata)\n",
        "data = {\n",
        "    \"Student_ID\": [\"001\", \"002\", \"003\", \"004\", \"005\", \"006\", \"007\", \"008\"],\n",
        "    \"Name\": [\"Alice\", \"Bob\", \"Charlie\", \"Diana\", \"Eve\", \"Frank\", \"Grace\", \"Hank\"],\n",
        "    \"Gender\": [\"Female\", \"Male\", \"Male\", \"Female\", \"Female\", \"Male\", \"Female\", \"Male\"],\n",
        "    \"Grade_Level\": [\"Freshman\", \"Sophomore\", \"Junior\", \"Senior\", \"Sophomore\", \"Junior\", \"Freshman\", \"Senior\"],\n",
        "    \"Score\": [88, 75, 92, 85, 79, 83, 91, 77]\n",
        "}\n",
        "\n",
        "df = pd.DataFrame(data)\n",
        "\n",
        "# ---------------------------\n",
        "# 1. Simple Random Sampling\n",
        "# ---------------------------\n",
        "def random_sampling(df, sample_size):\n",
        "    return df.sample(n=sample_size, random_state=42)\n",
        "\n",
        "random_sample = random_sampling(df, 3)\n",
        "print(\"Random Sample:\\n\", random_sample)\n",
        "\n",
        "# ---------------------------\n",
        "# 2. Stratified Sampling\n",
        "# ---------------------------\n",
        "def stratified_sampling(df, strata_col, sample_size_per_group):\n",
        "    # Apply sampling only to the group, not including the group key in the applied function\n",
        "    grouped = df.groupby(strata_col, group_keys=False)\n",
        "\n",
        "    # Explicitly exclude the group column when sampling\n",
        "    stratified_sample = grouped.apply(\n",
        "    lambda group: group.sample(n=min(sample_size_per_group, len(group)), random_state=42),\n",
        "    include_groups=False).reset_index(drop=True)\n",
        "\n",
        "    return stratified_sample\n",
        "\n",
        "stratified_sample = stratified_sampling(df, \"Gender\", 2)\n",
        "print(\"\\n Stratified Sample by Gender:\\n\", stratified_sample)\n"
      ],
      "metadata": {
        "colab": {
          "base_uri": "https://localhost:8080/"
        },
        "id": "Qlv3vXfSiPgS",
        "outputId": "e244fd55-ad6f-4f78-d8d4-bc6ab8f550ac"
      },
      "execution_count": 16,
      "outputs": [
        {
          "output_type": "stream",
          "name": "stdout",
          "text": [
            "Random Sample:\n",
            "   Student_ID   Name  Gender Grade_Level  Score\n",
            "1        002    Bob    Male   Sophomore     75\n",
            "5        006  Frank    Male      Junior     83\n",
            "0        001  Alice  Female    Freshman     88\n",
            "\n",
            " Stratified Sample by Gender:\n",
            "   Student_ID     Name Grade_Level  Score\n",
            "0        004    Diana      Senior     85\n",
            "1        007    Grace    Freshman     91\n",
            "2        003  Charlie      Junior     92\n",
            "3        008     Hank      Senior     77\n"
          ]
        }
      ]
    },
    {
      "cell_type": "code",
      "source": [
        "# 5. Write a Python function to calculate the range of a dataset\n",
        "\n",
        "def calculate_range(data):\n",
        "    if not data:\n",
        "        raise ValueError(\"Dataset is empty\")\n",
        "    return max(data) - min(data)\n",
        "# Example dataset\n",
        "dataset = [10, 12, 23, 23, 16, 23, 21, 16]\n",
        "\n",
        "# Calculate range\n",
        "range_value = calculate_range(dataset)\n",
        "print(f\"Range of the dataset: {range_value}\")"
      ],
      "metadata": {
        "colab": {
          "base_uri": "https://localhost:8080/"
        },
        "id": "Ex_BDMT0ihK5",
        "outputId": "c79455f3-a293-4089-c919-5fe0b415118d"
      },
      "execution_count": 17,
      "outputs": [
        {
          "output_type": "stream",
          "name": "stdout",
          "text": [
            "Range of the dataset: 13\n"
          ]
        }
      ]
    },
    {
      "cell_type": "code",
      "source": [
        "# 6. Create a dataset and plot its histogram to visualize skewness\n",
        "\n",
        "import numpy as np\n",
        "import matplotlib.pyplot as plt\n",
        "from scipy.stats import skew\n",
        "\n",
        "# 1. Create a positively skewed dataset (e.g., exponential distribution)\n",
        "np.random.seed(42)  # for reproducibility\n",
        "data = np.random.exponential(scale=2.0, size=1000)  # right-skewed\n",
        "\n",
        "# 2. Calculate skewness\n",
        "skewness_value = skew(data)\n",
        "\n",
        "# 3. Plot histogram\n",
        "plt.figure(figsize=(8, 5))\n",
        "plt.hist(data, bins=30, color='skyblue', edgecolor='black')\n",
        "plt.title(f\"Histogram of Dataset (Skewness = {skewness_value:.2f})\")\n",
        "plt.xlabel(\"Value\")\n",
        "plt.ylabel(\"Frequency\")\n",
        "plt.grid(True)\n",
        "plt.show()\n"
      ],
      "metadata": {
        "colab": {
          "base_uri": "https://localhost:8080/",
          "height": 487
        },
        "id": "Uc4e9REbmO4c",
        "outputId": "5e040066-267a-47fb-ab8d-fda57b52e755"
      },
      "execution_count": 1,
      "outputs": [
        {
          "output_type": "display_data",
          "data": {
            "text/plain": [
              "<Figure size 800x500 with 1 Axes>"
            ],
            "image/png": "[encoded data removed]"
          },
          "metadata": {}
        }
      ]
    },
    {
      "cell_type": "code",
      "source": [
        "# 7. Calculate skewness and kurtosis of a dataset using Python libraries\n",
        "\n",
        "import numpy as np\n",
        "from scipy.stats import skew, kurtosis\n",
        "\n",
        "# Example dataset\n",
        "data = [10, 12, 23, 23, 16, 23, 21, 16]\n",
        "\n",
        "# Calculate skewness\n",
        "skewness = skew(data)\n",
        "\n",
        "# Calculate kurtosis\n",
        "kurt = kurtosis(data)  # By default, this is \"Fisher's kurtosis\" (normal distribution = 0)\n",
        "\n",
        "print(f\"Skewness: {skewness:.2f}\")\n",
        "print(f\"Kurtosis: {kurt:.2f}\")\n"
      ],
      "metadata": {
        "colab": {
          "base_uri": "https://localhost:8080/"
        },
        "id": "2Jg4oSchMEJJ",
        "outputId": "26ea4f2a-aca4-48f0-8364-a70a1bb6d3e7"
      },
      "execution_count": 2,
      "outputs": [
        {
          "output_type": "stream",
          "name": "stdout",
          "text": [
            "Skewness: -0.36\n",
            "Kurtosis: -1.40\n"
          ]
        }
      ]
    },
    {
      "cell_type": "code",
      "source": [
        "# 8. Generate a dataset and demonstrate positive and negative skewness\n",
        "\n",
        "import numpy as np\n",
        "import matplotlib.pyplot as plt\n",
        "from scipy.stats import skew\n",
        "\n",
        "# Set seed for reproducibility\n",
        "np.random.seed(42)\n",
        "\n",
        "# 1. Generate datasets\n",
        "positive_skew_data = np.random.exponential(scale=2.0, size=1000)  # right-skewed\n",
        "negative_skew_data = -np.random.exponential(scale=2.0, size=1000)  # left-skewed\n",
        "\n",
        "# 2. Calculate skewness\n",
        "pos_skewness = skew(positive_skew_data)\n",
        "neg_skewness = skew(negative_skew_data)\n",
        "\n",
        "# 3. Plot histograms\n",
        "fig, axs = plt.subplots(1, 2, figsize=(12, 5))\n",
        "\n",
        "# Positively skewed\n",
        "axs[0].hist(positive_skew_data, bins=30, color='skyblue', edgecolor='black')\n",
        "axs[0].set_title(f\"Right (Positive) Skew\\nSkewness = {pos_skewness:.2f}\")\n",
        "axs[0].set_xlabel(\"Value\")\n",
        "axs[0].set_ylabel(\"Frequency\")\n",
        "\n",
        "# Negatively skewed\n",
        "axs[1].hist(negative_skew_data, bins=30, color='lightcoral', edgecolor='black')\n",
        "axs[1].set_title(f\"Left (Negative) Skew\\nSkewness = {neg_skewness:.2f}\")\n",
        "axs[1].set_xlabel(\"Value\")\n",
        "axs[1].set_ylabel(\"Frequency\")\n",
        "\n",
        "plt.tight_layout()\n",
        "plt.show()"
      ],
      "metadata": {
        "colab": {
          "base_uri": "https://localhost:8080/",
          "height": 506
        },
        "id": "LYolFxK0MO3y",
        "outputId": "f8d52699-30a5-4466-a691-eff42c74510a"
      },
      "execution_count": 3,
      "outputs": [
        {
          "output_type": "display_data",
          "data": {
            "text/plain": [
              "<Figure size 1200x500 with 2 Axes>"
            ],
            "image/png": "[encoded data removed]"
          },
          "metadata": {}
        }
      ]
    },
    {
      "cell_type": "code",
      "source": [
        "# 9. Write a Python script to calculate covariance between two datasets\n",
        "\n",
        "import numpy as np\n",
        "\n",
        "# Example datasets (equal-length lists)\n",
        "x = [2, 4, 8, 10, 12]\n",
        "y = [1, 3, 7, 9, 11]\n",
        "\n",
        "# 1. Manual calculation of covariance (population version)\n",
        "def calculate_covariance(x, y):\n",
        "    if len(x) != len(y):\n",
        "        raise ValueError(\"Datasets must be of equal length\")\n",
        "\n",
        "    mean_x = sum(x) / len(x)\n",
        "    mean_y = sum(y) / len(y)\n",
        "\n",
        "    cov = sum((a - mean_x) * (b - mean_y) for a, b in zip(x, y)) / len(x)\n",
        "    return cov\n",
        "\n",
        "manual_cov = calculate_covariance(x, y)\n",
        "\n",
        "# 2. NumPy calculation (population covariance matrix)\n",
        "np_cov_matrix = np.cov(x, y, bias=True)  # bias=True uses population formula (divides by N)\n",
        "numpy_cov = np_cov_matrix[0][1]  # off-diagonal element is covariance\n",
        "\n",
        "# Output\n",
        "print(f\"Manual Covariance: {manual_cov}\")\n",
        "print(f\"NumPy Covariance: {numpy_cov}\")"
      ],
      "metadata": {
        "colab": {
          "base_uri": "https://localhost:8080/"
        },
        "id": "nm4XHElJMmnx",
        "outputId": "9e002eb2-1710-46fb-b41c-262075cf9bb8"
      },
      "execution_count": 4,
      "outputs": [
        {
          "output_type": "stream",
          "name": "stdout",
          "text": [
            "Manual Covariance: 13.76\n",
            "NumPy Covariance: 13.76\n"
          ]
        }
      ]
    },
    {
      "cell_type": "code",
      "source": [
        "# 10. Write a Python script to calculate the correlation coefficient between two datasets\n",
        "\n",
        "import numpy as np\n",
        "import pandas as pd\n",
        "\n",
        "# Example datasets\n",
        "x = [2, 4, 8, 10, 12]\n",
        "y = [1, 3, 7, 9, 11]\n",
        "\n",
        "# 1. Manual calculation (Pearson correlation)\n",
        "def calculate_correlation(x, y):\n",
        "    if len(x) != len(y):\n",
        "        raise ValueError(\"Datasets must be the same length\")\n",
        "\n",
        "    mean_x = sum(x) / len(x)\n",
        "    mean_y = sum(y) / len(y)\n",
        "\n",
        "    numerator = sum((a - mean_x) * (b - mean_y) for a, b in zip(x, y))\n",
        "    denominator = (\n",
        "        (sum((a - mean_x) ** 2 for a in x) * sum((b - mean_y) ** 2 for b in y)) ** 0.5\n",
        "    )\n",
        "\n",
        "    return numerator / denominator\n",
        "\n",
        "manual_corr = calculate_correlation(x, y)\n",
        "\n",
        "# 2. NumPy method\n",
        "numpy_corr = np.corrcoef(x, y)[0, 1]\n",
        "\n",
        "# 3. Pandas method\n",
        "df = pd.DataFrame({'x': x, 'y': y})\n",
        "pandas_corr = df['x'].corr(df['y'])\n",
        "\n",
        "# Output\n",
        "print(f\"Manual Correlation Coefficient: {manual_corr:.4f}\")\n",
        "print(f\"NumPy Correlation Coefficient: {numpy_corr:.4f}\")\n",
        "print(f\"Pandas Correlation Coefficient: {pandas_corr:.4f}\")"
      ],
      "metadata": {
        "colab": {
          "base_uri": "https://localhost:8080/"
        },
        "id": "B-omi3tIM08N",
        "outputId": "5efdfce1-6144-4ee9-b233-f3e0f24f725f"
      },
      "execution_count": 5,
      "outputs": [
        {
          "output_type": "stream",
          "name": "stdout",
          "text": [
            "Manual Correlation Coefficient: 1.0000\n",
            "NumPy Correlation Coefficient: 1.0000\n",
            "Pandas Correlation Coefficient: 1.0000\n"
          ]
        }
      ]
    },
    {
      "cell_type": "code",
      "source": [
        "# 11. Create a scatter plot to visualize the relationship between two variables\n",
        "\n",
        "import matplotlib.pyplot as plt\n",
        "import seaborn as sns\n",
        "\n",
        "# Example data\n",
        "x = [2, 4, 8, 10, 12, 14, 16, 18]\n",
        "y = [1, 3, 7, 9, 11, 13, 15, 18]\n",
        "\n",
        "# Create scatter plot using seaborn (with regression line)\n",
        "plt.figure(figsize=(8, 5))\n",
        "sns.scatterplot(x=x, y=y, color='blue', s=60)\n",
        "sns.regplot(x=x, y=y, scatter=False, color='red', label='Trend Line')\n",
        "\n",
        "plt.title('Scatter Plot of X vs Y')\n",
        "plt.xlabel('X Variable')\n",
        "plt.ylabel('Y Variable')\n",
        "plt.legend()\n",
        "plt.grid(True)\n",
        "plt.tight_layout()\n",
        "plt.show()"
      ],
      "metadata": {
        "colab": {
          "base_uri": "https://localhost:8080/",
          "height": 507
        },
        "id": "HMzxTrvVNCbb",
        "outputId": "871374a1-3e24-40c6-fc4c-af89601edaf6"
      },
      "execution_count": 6,
      "outputs": [
        {
          "output_type": "display_data",
          "data": {
            "text/plain": [
              "<Figure size 800x500 with 1 Axes>"
            ],
            "image/png": "[encoded data removed]"
          },
          "metadata": {}
        }
      ]
    },
    {
      "cell_type": "code",
      "source": [
        "# 12. Implement and compare simple random sampling and systematic sampling\n",
        "\n",
        "import pandas as pd\n",
        "import numpy as np\n",
        "import random\n",
        "import matplotlib.pyplot as plt\n",
        "\n",
        "# 1. Create a simple dataset\n",
        "data = pd.DataFrame({\n",
        "    'ID': range(1, 101),  # 100 records\n",
        "    'Value': np.random.randint(50, 100, size=100)\n",
        "})\n",
        "\n",
        "# 2. Simple Random Sampling\n",
        "def simple_random_sampling(df, sample_size):\n",
        "    return df.sample(n=sample_size, random_state=42)\n",
        "\n",
        "# 3. Systematic Sampling\n",
        "def systematic_sampling(df, sample_size):\n",
        "    step = len(df) // sample_size\n",
        "    start = random.randint(0, step - 1)\n",
        "    indices = list(range(start, len(df), step))\n",
        "    return df.iloc[indices[:sample_size]]\n",
        "\n",
        "# Set sample size\n",
        "sample_size = 10\n",
        "\n",
        "# Perform sampling\n",
        "random_sample = simple_random_sampling(data, sample_size)\n",
        "systematic_sample = systematic_sampling(data, sample_size)\n",
        "\n",
        "# 4. Compare samples\n",
        "print(\"📦 Simple Random Sample:\\n\", random_sample)\n",
        "print(\"\\n📏 Systematic Sample:\\n\", systematic_sample)\n",
        "\n",
        "# 5. Optional: Visual comparison\n",
        "plt.figure(figsize=(10, 4))\n",
        "\n",
        "plt.subplot(1, 2, 1)\n",
        "plt.bar(random_sample['ID'], random_sample['Value'], color='skyblue')\n",
        "plt.title(\"Simple Random Sampling\")\n",
        "plt.xlabel(\"ID\")\n",
        "plt.ylabel(\"Value\")\n",
        "\n",
        "plt.subplot(1, 2, 2)\n",
        "plt.bar(systematic_sample['ID'], systematic_sample['Value'], color='lightgreen')\n",
        "plt.title(\"Systematic Sampling\")\n",
        "plt.xlabel(\"ID\")\n",
        "\n",
        "plt.tight_layout()\n",
        "plt.show()"
      ],
      "metadata": {
        "colab": {
          "base_uri": "https://localhost:8080/",
          "height": 841
        },
        "id": "NBO8-l4SNNSr",
        "outputId": "a0eb85d6-c8c4-45c0-d7e4-f83b004dcbaa"
      },
      "execution_count": 7,
      "outputs": [
        {
          "output_type": "stream",
          "name": "stdout",
          "text": [
            "📦 Simple Random Sample:\n",
            "     ID  Value\n",
            "83  84     51\n",
            "53  54     74\n",
            "70  71     88\n",
            "45  46     54\n",
            "44  45     67\n",
            "39  40     75\n",
            "22  23     53\n",
            "80  81     59\n",
            "10  11     74\n",
            "0    1     77\n",
            "\n",
            "📏 Systematic Sample:\n",
            "     ID  Value\n",
            "2    3     84\n",
            "12  13     55\n",
            "22  23     53\n",
            "32  33     69\n",
            "42  43     86\n",
            "52  53     68\n",
            "62  63     71\n",
            "72  73     98\n",
            "82  83     54\n",
            "92  93     71\n"
          ]
        },
        {
          "output_type": "display_data",
          "data": {
            "text/plain": [
              "<Figure size 1000x400 with 2 Axes>"
            ],
            "image/png": "[encoded data removed]"
          },
          "metadata": {}
        }
      ]
    },
    {
      "cell_type": "code",
      "source": [
        "# 13. Calculate the mean, median, and mode of grouped data\n",
        "\n",
        "import pandas as pd\n",
        "\n",
        "# 1. Define the grouped data\n",
        "classes = [(0, 10), (10, 20), (20, 30), (30, 40), (40, 50)]\n",
        "frequencies = [5, 8, 15, 16, 6]\n",
        "\n",
        "# 2. Create a DataFrame\n",
        "df = pd.DataFrame(classes, columns=[\"Lower\", \"Upper\"])\n",
        "df[\"Frequency\"] = frequencies\n",
        "df[\"Midpoint\"] = (df[\"Lower\"] + df[\"Upper\"]) / 2\n",
        "df[\"f*x\"] = df[\"Frequency\"] * df[\"Midpoint\"]\n",
        "\n",
        "# 3. Mean = Σ(f*x) / Σf\n",
        "mean = df[\"f*x\"].sum() / df[\"Frequency\"].sum()\n",
        "\n",
        "# 4. Median calculation\n",
        "N = df[\"Frequency\"].sum()\n",
        "cf = df[\"Frequency\"].cumsum()\n",
        "median_class_index = cf[cf >= N / 2].index[0]\n",
        "L = df.loc[median_class_index, \"Lower\"]\n",
        "F = df.loc[median_class_index - 1, \"Frequency\"].cumsum() if median_class_index > 0 else 0\n",
        "f = df.loc[median_class_index, \"Frequency\"]\n",
        "h = df.loc[median_class_index, \"Upper\"] - df.loc[median_class_index, \"Lower\"]\n",
        "median = L + ((N / 2 - cf[median_class_index - 1] if median_class_index > 0 else N / 2) / f) * h\n",
        "\n",
        "# 5. Mode calculation\n",
        "modal_index = df[\"Frequency\"].idxmax()\n",
        "L = df.loc[modal_index, \"Lower\"]\n",
        "f1 = df.loc[modal_index, \"Frequency\"]\n",
        "f0 = df.loc[modal_index - 1, \"Frequency\"] if modal_index > 0 else 0\n",
        "f2 = df.loc[modal_index + 1, \"Frequency\"] if modal_index + 1 < len(df) else 0\n",
        "h = df.loc[modal_index, \"Upper\"] - df.loc[modal_index, \"Lower\"]\n",
        "mode = L + ((f1 - f0) / ((2 * f1) - f0 - f2)) * h if (2 * f1 - f0 - f2) != 0 else None\n",
        "\n",
        "# 6. Print results\n",
        "print(f\"Mean: {mean:.2f}\")\n",
        "print(f\"Median: {median:.2f}\")\n",
        "print(f\"Mode: {mode:.2f}\" if mode else \"Mode: Undefined (division by zero)\")"
      ],
      "metadata": {
        "colab": {
          "base_uri": "https://localhost:8080/"
        },
        "id": "0k72P-D0NaB9",
        "outputId": "e9f951cc-01a2-4e3e-87bb-6f55c96275d3"
      },
      "execution_count": 8,
      "outputs": [
        {
          "output_type": "stream",
          "name": "stdout",
          "text": [
            "Mean: 27.00\n",
            "Median: 28.00\n",
            "Mode: 30.91\n"
          ]
        }
      ]
    },
    {
      "cell_type": "code",
      "source": [
        "# 14. Simulate data using Python and calculate its central tendency and dispersion\n",
        "\n",
        "import numpy as np\n",
        "import pandas as pd\n",
        "from scipy import stats\n",
        "\n",
        "# 1. Simulate a dataset (normal distribution)\n",
        "np.random.seed(42)  # reproducibility\n",
        "data = np.random.normal(loc=50, scale=10, size=100)  # mean=50, std=10, 100 values\n",
        "data = np.round(data, 2)  # round to 2 decimal places\n",
        "\n",
        "# Convert to pandas Series\n",
        "series = pd.Series(data)\n",
        "\n",
        "# 2. Central Tendency\n",
        "mean = series.mean()\n",
        "median = series.median()\n",
        "mode = series.mode().values[0]  # Can be multiple modes; take the first\n",
        "\n",
        "# 3. Dispersion\n",
        "data_range = series.max() - series.min()\n",
        "variance = series.var()  # sample variance\n",
        "std_dev = series.std()   # sample standard deviation\n",
        "iqr = series.quantile(0.75) - series.quantile(0.25)\n",
        "\n",
        "# 4. Print results\n",
        "print(\"📊 Central Tendency\")\n",
        "print(f\"Mean: {mean:.2f}\")\n",
        "print(f\"Median: {median:.2f}\")\n",
        "print(f\"Mode: {mode:.2f}\")\n",
        "\n",
        "print(\"\\n📈 Dispersion\")\n",
        "print(f\"Range: {data_range:.2f}\")\n",
        "print(f\"Variance: {variance:.2f}\")\n",
        "print(f\"Standard Deviation: {std_dev:.2f}\")\n",
        "print(f\"IQR (Interquartile Range): {iqr:.2f}\")"
      ],
      "metadata": {
        "colab": {
          "base_uri": "https://localhost:8080/"
        },
        "id": "dHau-atTNoWD",
        "outputId": "7c66515b-4df7-4e3d-b0b4-23cbf00bcec8"
      },
      "execution_count": 9,
      "outputs": [
        {
          "output_type": "stream",
          "name": "stdout",
          "text": [
            "📊 Central Tendency\n",
            "Mean: 48.96\n",
            "Median: 48.73\n",
            "Mode: 47.66\n",
            "\n",
            "📈 Dispersion\n",
            "Range: 44.72\n",
            "Variance: 82.48\n",
            "Standard Deviation: 9.08\n",
            "IQR (Interquartile Range): 10.08\n"
          ]
        }
      ]
    },
    {
      "cell_type": "code",
      "source": [
        "# 15. Use NumPy or pandas to summarize a dataset’s descriptive statistics\n",
        "\n",
        "import pandas as pd\n",
        "import numpy as np\n",
        "\n",
        "# Simulate a dataset\n",
        "np.random.seed(42)\n",
        "data = {\n",
        "    'Math_Score': np.random.normal(75, 10, 100),\n",
        "    'English_Score': np.random.normal(70, 15, 100),\n",
        "    'Science_Score': np.random.normal(65, 12, 100)\n",
        "}\n",
        "\n",
        "df = pd.DataFrame(data)\n",
        "\n",
        "# Summary of descriptive statistics\n",
        "summary = df.describe()\n",
        "print(\"📊 Descriptive Statistics (pandas):\")\n",
        "print(summary)"
      ],
      "metadata": {
        "colab": {
          "base_uri": "https://localhost:8080/"
        },
        "id": "EVW7WFLKN8CP",
        "outputId": "9d9eb5c7-7e6f-45a7-8bf0-fd79e5990fac"
      },
      "execution_count": 10,
      "outputs": [
        {
          "output_type": "stream",
          "name": "stdout",
          "text": [
            "📊 Descriptive Statistics (pandas):\n",
            "       Math_Score  English_Score  Science_Score\n",
            "count  100.000000     100.000000     100.000000\n",
            "mean    73.961535      70.334569      65.778755\n",
            "std      9.081684      14.305034      13.011395\n",
            "min     48.802549      41.218432      26.104792\n",
            "25%     68.990943      57.915092      57.134678\n",
            "50%     73.730437      71.261608      66.172349\n",
            "75%     79.059521      78.072557      73.453249\n",
            "max     93.522782     110.802537     111.232778\n"
          ]
        }
      ]
    },
    {
      "cell_type": "code",
      "source": [
        "# 16. Plot a boxplot to understand the spread and identify outliers\n",
        "\n",
        "import pandas as pd\n",
        "import numpy as np\n",
        "import matplotlib.pyplot as plt\n",
        "\n",
        "# Simulate a dataset\n",
        "np.random.seed(42)\n",
        "data = {\n",
        "    'Math_Score': np.random.normal(75, 10, 100),\n",
        "    'English_Score': np.random.normal(70, 15, 100),\n",
        "    'Science_Score': np.random.normal(65, 12, 100)\n",
        "}\n",
        "df = pd.DataFrame(data)\n",
        "\n",
        "# Plot boxplot\n",
        "plt.figure(figsize=(8, 6))\n",
        "boxplot = df.boxplot(column=['Math_Score', 'English_Score', 'Science_Score'])\n",
        "plt.title('Boxplot of Scores')\n",
        "plt.ylabel('Scores')\n",
        "plt.grid(True, linestyle='--', alpha=0.7)\n",
        "plt.show()"
      ],
      "metadata": {
        "colab": {
          "base_uri": "https://localhost:8080/",
          "height": 545
        },
        "id": "0MLO0OAGOPwG",
        "outputId": "ba7269f4-281b-4747-d67f-ad9c97abb565"
      },
      "execution_count": 11,
      "outputs": [
        {
          "output_type": "display_data",
          "data": {
            "text/plain": [
              "<Figure size 800x600 with 1 Axes>"
            ],
            "image/png": "[encoded data removed]"
          },
          "metadata": {}
        }
      ]
    },
    {
      "cell_type": "code",
      "source": [
        "# 17. Calculate the interquartile range (IQR) of a dataset\n",
        "\n",
        "import numpy as np\n",
        "\n",
        "# Example dataset\n",
        "data = [10, 12, 15, 18, 21, 22, 24, 30, 35, 40]\n",
        "\n",
        "# Calculate Q1 and Q3\n",
        "Q1 = np.percentile(data, 25)\n",
        "Q3 = np.percentile(data, 75)\n",
        "\n",
        "# Calculate IQR\n",
        "IQR = Q3 - Q1\n",
        "\n",
        "print(f\"Q1 (25th percentile): {Q1}\")\n",
        "print(f\"Q3 (75th percentile): {Q3}\")\n",
        "print(f\"Interquartile Range (IQR): {IQR}\")"
      ],
      "metadata": {
        "colab": {
          "base_uri": "https://localhost:8080/"
        },
        "id": "gKD1eonPOYQV",
        "outputId": "7a30d8bf-fd41-455c-e2b8-901a2b296e8f"
      },
      "execution_count": 12,
      "outputs": [
        {
          "output_type": "stream",
          "name": "stdout",
          "text": [
            "Q1 (25th percentile): 15.75\n",
            "Q3 (75th percentile): 28.5\n",
            "Interquartile Range (IQR): 12.75\n"
          ]
        }
      ]
    },
    {
      "cell_type": "code",
      "source": [
        "# 18. Implement Z-score normalization and explain its significance\n",
        "\n",
        "import numpy as np\n",
        "import pandas as pd\n",
        "\n",
        "# Example dataset\n",
        "data = np.array([10, 12, 15, 18, 21, 22, 24, 30, 35, 40])\n",
        "\n",
        "# Calculate mean and std deviation\n",
        "mean = np.mean(data)\n",
        "std_dev = np.std(data)\n",
        "\n",
        "# Z-score normalization manually\n",
        "z_scores = (data - mean) / std_dev\n",
        "\n",
        "print(\"Original data:\", data)\n",
        "print(\"Mean:\", mean)\n",
        "print(\"Standard Deviation:\", std_dev)\n",
        "print(\"Z-score normalized data:\", np.round(z_scores, 3))"
      ],
      "metadata": {
        "colab": {
          "base_uri": "https://localhost:8080/"
        },
        "id": "-BP51178OpUQ",
        "outputId": "e6212282-0f7e-4e68-90db-1558c7ceec63"
      },
      "execution_count": 13,
      "outputs": [
        {
          "output_type": "stream",
          "name": "stdout",
          "text": [
            "Original data: [10 12 15 18 21 22 24 30 35 40]\n",
            "Mean: 22.7\n",
            "Standard Deviation: 9.306449376641984\n",
            "Z-score normalized data: [-1.365 -1.15  -0.827 -0.505 -0.183 -0.075  0.14   0.784  1.322  1.859]\n"
          ]
        }
      ]
    },
    {
      "cell_type": "code",
      "source": [
        "# 19. Compare two datasets using their standard deviations\n",
        "\n",
        "import numpy as np\n",
        "\n",
        "# Dataset A and Dataset B\n",
        "data_A = [10, 12, 15, 18, 21, 22, 24, 30, 35, 40]\n",
        "data_B = [20, 22, 23, 25, 25, 26, 27, 28, 29, 30]\n",
        "\n",
        "# Calculate standard deviations (sample std dev, ddof=1)\n",
        "std_A = np.std(data_A, ddof=1)\n",
        "std_B = np.std(data_B, ddof=1)\n",
        "\n",
        "print(f\"Standard Deviation of Dataset A: {std_A:.2f}\")\n",
        "print(f\"Standard Deviation of Dataset B: {std_B:.2f}\")\n",
        "\n",
        "# Interpretation\n",
        "if std_A > std_B:\n",
        "    print(\"Dataset A has greater variability.\")\n",
        "elif std_B > std_A:\n",
        "    print(\"Dataset B has greater variability.\")\n",
        "else:\n",
        "    print(\"Both datasets have the same variability.\")"
      ],
      "metadata": {
        "colab": {
          "base_uri": "https://localhost:8080/"
        },
        "id": "iRlAKrVfOxet",
        "outputId": "705b8c14-0f5d-4e5a-8d7e-5bdecb5324fa"
      },
      "execution_count": 14,
      "outputs": [
        {
          "output_type": "stream",
          "name": "stdout",
          "text": [
            "Standard Deviation of Dataset A: 9.81\n",
            "Standard Deviation of Dataset B: 3.17\n",
            "Dataset A has greater variability.\n"
          ]
        }
      ]
    },
    {
      "cell_type": "code",
      "source": [
        "# 20. Write a Python program to visualize covariance using a heatmap\n",
        "\n",
        "import numpy as np\n",
        "import pandas as pd\n",
        "import seaborn as sns\n",
        "import matplotlib.pyplot as plt\n",
        "\n",
        "# Simulate a dataset with 3 variables\n",
        "np.random.seed(42)\n",
        "data = pd.DataFrame({\n",
        "    'X': np.random.normal(0, 1, 100),\n",
        "    'Y': np.random.normal(5, 2, 100),\n",
        "    'Z': np.random.normal(-3, 5, 100)\n",
        "})\n",
        "\n",
        "# Calculate covariance matrix\n",
        "cov_matrix = data.cov()\n",
        "\n",
        "print(\"Covariance matrix:\\n\", cov_matrix)\n",
        "\n",
        "# Plot heatmap of covariance matrix\n",
        "plt.figure(figsize=(6, 5))\n",
        "sns.heatmap(cov_matrix, annot=True, cmap='coolwarm', center=0)\n",
        "plt.title('Covariance Matrix Heatmap')\n",
        "plt.show()"
      ],
      "metadata": {
        "colab": {
          "base_uri": "https://localhost:8080/",
          "height": 555
        },
        "id": "ev0hhIdKO5L7",
        "outputId": "6ea9c603-c682-40bd-d76c-b2b634d476ce"
      },
      "execution_count": 15,
      "outputs": [
        {
          "output_type": "stream",
          "name": "stdout",
          "text": [
            "Covariance matrix:\n",
            "           X         Y          Z\n",
            "X  0.824770 -0.236308   0.939611\n",
            "Y -0.236308  3.637938  -0.378789\n",
            "Z  0.939611 -0.378789  29.391734\n"
          ]
        },
        {
          "output_type": "display_data",
          "data": {
            "text/plain": [
              "<Figure size 600x500 with 2 Axes>"
            ],
            "image/png": "[encoded data removed]"
          },
          "metadata": {}
        }
      ]
    },
    {
      "cell_type": "code",
      "source": [
        "# 21. Use seaborn to create a correlation matrix for a dataset\n",
        "\n",
        "import pandas as pd\n",
        "import numpy as np\n",
        "import seaborn as sns\n",
        "import matplotlib.pyplot as plt\n",
        "\n",
        "# Sample dataset\n",
        "np.random.seed(0)\n",
        "data = pd.DataFrame({\n",
        "    'A': np.random.normal(0, 1, 100),\n",
        "    'B': np.random.normal(5, 2, 100),\n",
        "    'C': np.random.normal(-3, 5, 100),\n",
        "    'D': np.random.normal(10, 3, 100)\n",
        "})\n",
        "\n",
        "# Calculate correlation matrix\n",
        "corr = data.corr()\n",
        "\n",
        "# Plot heatmap\n",
        "plt.figure(figsize=(8, 6))\n",
        "sns.heatmap(corr, annot=True, cmap='coolwarm', center=0, linewidths=0.5)\n",
        "plt.title('Correlation Matrix Heatmap')\n",
        "plt.show()"
      ],
      "metadata": {
        "colab": {
          "base_uri": "https://localhost:8080/",
          "height": 545
        },
        "id": "4HIVPWR7PE_5",
        "outputId": "b5bf8e08-8c0d-46d1-a567-fcb71224e44b"
      },
      "execution_count": 16,
      "outputs": [
        {
          "output_type": "display_data",
          "data": {
            "text/plain": [
              "<Figure size 800x600 with 2 Axes>"
            ],
            "image/png": "[encoded data removed]"
          },
          "metadata": {}
        }
      ]
    },
    {
      "cell_type": "code",
      "source": [
        "# 22. Generate a dataset and implement both variance and standard deviation computations\n",
        "\n",
        "import numpy as np\n",
        "\n",
        "# Generate a dataset (e.g., 20 random numbers from a normal distribution)\n",
        "np.random.seed(42)\n",
        "data = np.random.normal(loc=50, scale=10, size=20)\n",
        "print(\"Dataset:\", np.round(data, 2))\n",
        "\n",
        "# Manual calculations:\n",
        "mean = np.mean(data)\n",
        "\n",
        "# Variance (sample)\n",
        "variance_manual = np.sum((data - mean) ** 2) / (len(data) - 1)\n",
        "\n",
        "# Standard deviation (sample)\n",
        "std_dev_manual = np.sqrt(variance_manual)\n",
        "\n",
        "# Using NumPy functions:\n",
        "variance_np = np.var(data, ddof=1)  # ddof=1 for sample variance\n",
        "std_dev_np = np.std(data, ddof=1)   # ddof=1 for sample std dev\n",
        "\n",
        "print(f\"\\nManual variance: {variance_manual:.4f}\")\n",
        "print(f\"NumPy variance: {variance_np:.4f}\")\n",
        "\n",
        "print(f\"\\nManual standard deviation: {std_dev_manual:.4f}\")\n",
        "print(f\"NumPy standard deviation: {std_dev_np:.4f}\")"
      ],
      "metadata": {
        "colab": {
          "base_uri": "https://localhost:8080/"
        },
        "id": "D0SZYf0iPbrU",
        "outputId": "9fcfdf2e-7332-4b5e-8d84-1bb44ccf614a"
      },
      "execution_count": 18,
      "outputs": [
        {
          "output_type": "stream",
          "name": "stdout",
          "text": [
            "Dataset: [54.97 48.62 56.48 65.23 47.66 47.66 65.79 57.67 45.31 55.43 45.37 45.34\n",
            " 52.42 30.87 32.75 44.38 39.87 53.14 40.92 35.88]\n",
            "\n",
            "Manual variance: 92.1655\n",
            "NumPy variance: 92.1655\n",
            "\n",
            "Manual standard deviation: 9.6003\n",
            "NumPy standard deviation: 9.6003\n"
          ]
        }
      ]
    },
    {
      "cell_type": "code",
      "source": [
        "# 23. Visualize skewness and kurtosis using Python libraries like matplotlib or seaborn\n",
        "\n",
        "import numpy as np\n",
        "import seaborn as sns\n",
        "import matplotlib.pyplot as plt\n",
        "from scipy.stats import skew, kurtosis\n",
        "\n",
        "# Generate skewed data (exponential for positive skew)\n",
        "np.random.seed(42)\n",
        "data = np.random.exponential(scale=2, size=1000)\n",
        "\n",
        "# Calculate skewness and kurtosis\n",
        "data_skewness = skew(data)\n",
        "data_kurtosis = kurtosis(data)  # excess kurtosis by default\n",
        "\n",
        "# Plot histogram with KDE (Kernel Density Estimate)\n",
        "plt.figure(figsize=(8, 5))\n",
        "sns.histplot(data, bins=30, kde=True, color='skyblue')\n",
        "plt.title('Histogram with KDE to Visualize Skewness')\n",
        "plt.xlabel('Value')\n",
        "plt.ylabel('Frequency')\n",
        "\n",
        "# Display skewness and kurtosis on the plot\n",
        "plt.text(x=max(data)*0.6, y=80, s=f'Skewness: {data_skewness:.2f}', fontsize=12)\n",
        "plt.text(x=max(data)*0.6, y=70, s=f'Kurtosis: {data_kurtosis:.2f}', fontsize=12)\n",
        "\n",
        "plt.show()"
      ],
      "metadata": {
        "colab": {
          "base_uri": "https://localhost:8080/",
          "height": 487
        },
        "id": "9XOqP2TUPp1r",
        "outputId": "06c365b6-e731-4857-afa5-9fb1cb872ec0"
      },
      "execution_count": 19,
      "outputs": [
        {
          "output_type": "display_data",
          "data": {
            "text/plain": [
              "<Figure size 800x500 with 1 Axes>"
            ],
            "image/png": "[encoded data removed]"
          },
          "metadata": {}
        }
      ]
    },
    {
      "cell_type": "code",
      "source": [
        "# 24. Implement the Pearson and Spearman correlation coefficients for a dataset\n",
        "\n",
        "import numpy as np\n",
        "import pandas as pd\n",
        "from scipy.stats import pearsonr, spearmanr\n",
        "\n",
        "# Simulate two related datasets\n",
        "np.random.seed(42)\n",
        "x = np.random.normal(50, 10, 100)\n",
        "# Create y to be correlated with x, but add some noise\n",
        "y = 0.5 * x + np.random.normal(0, 5, 100)\n",
        "\n",
        "# Calculate Pearson correlation (linear correlation)\n",
        "pearson_corr, pearson_p = pearsonr(x, y)\n",
        "\n",
        "# Calculate Spearman correlation (rank correlation)\n",
        "spearman_corr, spearman_p = spearmanr(x, y)\n",
        "\n",
        "print(f\"Pearson correlation coefficient: {pearson_corr:.3f} (p-value: {pearson_p:.3f})\")\n",
        "print(f\"Spearman correlation coefficient: {spearman_corr:.3f} (p-value: {spearman_p:.3f})\")"
      ],
      "metadata": {
        "colab": {
          "base_uri": "https://localhost:8080/"
        },
        "id": "AzowPwF8P8qX",
        "outputId": "def7eae5-579d-4800-b807-47111d035096"
      },
      "execution_count": 20,
      "outputs": [
        {
          "output_type": "stream",
          "name": "stdout",
          "text": [
            "Pearson correlation coefficient: 0.636 (p-value: 0.000)\n",
            "Spearman correlation coefficient: 0.600 (p-value: 0.000)\n"
          ]
        }
      ]
    },
    {
      "cell_type": "code",
      "source": [],
      "metadata": {
        "id": "sZqM4uC9QSsQ"
      },
      "execution_count": null,
      "outputs": []
    }
  ]
}